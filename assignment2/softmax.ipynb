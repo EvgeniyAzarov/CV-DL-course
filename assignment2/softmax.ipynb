{
 "cells": [
  {
   "cell_type": "code",
   "execution_count": 1,
   "id": "d8aaae81",
   "metadata": {},
   "outputs": [],
   "source": [
    "!bash get_datasets.sh"
   ]
  },
  {
   "cell_type": "markdown",
   "id": "e2c3cfa1",
   "metadata": {
    "tags": [
     "pdf-title"
    ]
   },
   "source": [
    "# Softmax exercise\n",
    "\n",
    "You will:\n",
    "\n",
    "- implement a fully-vectorized **loss function** for the Softmax classifier\n",
    "- implement the fully-vectorized expression for its **analytic gradient**\n",
    "- **check your implementation** with numerical gradient\n",
    "- use a validation set to **tune the learning rate and regularization** strength\n",
    "- **optimize** the loss function with **SGD**\n",
    "- **visualize** the final learned weights\n"
   ]
  },
  {
   "cell_type": "code",
   "execution_count": 2,
   "id": "c55a72bf",
   "metadata": {
    "tags": [
     "pdf-ignore"
    ]
   },
   "outputs": [],
   "source": [
    "import random\n",
    "import numpy as np\n",
    "from utils.data_utils import load_CIFAR10\n",
    "import matplotlib.pyplot as plt\n",
    "\n",
    "%matplotlib inline\n",
    "plt.rcParams['figure.figsize'] = (10.0, 8.0) # set default size of plots\n",
    "plt.rcParams['image.interpolation'] = 'nearest'\n",
    "plt.rcParams['image.cmap'] = 'gray'\n",
    "\n",
    "# for auto-reloading extenrnal modules\n",
    "# see http://stackoverflow.com/questions/1907993/autoreload-of-modules-in-ipython\n",
    "%load_ext autoreload\n",
    "%autoreload 2"
   ]
  },
  {
   "cell_type": "code",
   "execution_count": 3,
   "id": "b99594ec",
   "metadata": {
    "tags": [
     "pdf-ignore"
    ]
   },
   "outputs": [
    {
     "name": "stdout",
     "output_type": "stream",
     "text": [
      "Train data shape:  (49000, 3073)\n",
      "Train labels shape:  (49000,)\n",
      "Validation data shape:  (1000, 3073)\n",
      "Validation labels shape:  (1000,)\n",
      "Test data shape:  (1000, 3073)\n",
      "Test labels shape:  (1000,)\n",
      "dev data shape:  (500, 3073)\n",
      "dev labels shape:  (500,)\n"
     ]
    }
   ],
   "source": [
    "def get_CIFAR10_data(num_training=49000, num_validation=1000, num_test=1000, num_dev=500):\n",
    "    \"\"\"\n",
    "    Load the CIFAR-10 dataset from disk and perform preprocessing to prepare\n",
    "    it for the linear classifier. These are the same steps as we used for the\n",
    "    SVM, but condensed to a single function.  \n",
    "    \"\"\"\n",
    "    # Load the raw CIFAR-10 data\n",
    "    cifar10_dir = 'datasets/cifar-10-batches-py'\n",
    "    \n",
    "    # Cleaning up variables to prevent loading data multiple times (which may cause memory issue)\n",
    "    try:\n",
    "       del X_train, y_train\n",
    "       del X_test, y_test\n",
    "       print('Clear previously loaded data.')\n",
    "    except:\n",
    "       pass\n",
    "\n",
    "    X_train, y_train, X_test, y_test = load_CIFAR10(cifar10_dir)\n",
    "    \n",
    "    # subsample the data\n",
    "    mask = list(range(num_training, num_training + num_validation))\n",
    "    X_val = X_train[mask]\n",
    "    y_val = y_train[mask]\n",
    "    mask = list(range(num_training))\n",
    "    X_train = X_train[mask]\n",
    "    y_train = y_train[mask]\n",
    "    mask = list(range(num_test))\n",
    "    X_test = X_test[mask]\n",
    "    y_test = y_test[mask]\n",
    "    mask = np.random.choice(num_training, num_dev, replace=False)\n",
    "    X_dev = X_train[mask]\n",
    "    y_dev = y_train[mask]\n",
    "    \n",
    "    # Preprocessing: reshape the image data into rows\n",
    "    X_train = np.reshape(X_train, (X_train.shape[0], -1))\n",
    "    X_val = np.reshape(X_val, (X_val.shape[0], -1))\n",
    "    X_test = np.reshape(X_test, (X_test.shape[0], -1))\n",
    "    X_dev = np.reshape(X_dev, (X_dev.shape[0], -1))\n",
    "    \n",
    "    # Normalize the data: subtract the mean image\n",
    "    mean_image = np.mean(X_train, axis = 0)\n",
    "    X_train -= mean_image\n",
    "    X_val -= mean_image\n",
    "    X_test -= mean_image\n",
    "    X_dev -= mean_image\n",
    "    \n",
    "    # add bias dimension and transform into columns\n",
    "    X_train = np.hstack([X_train, np.ones((X_train.shape[0], 1))])\n",
    "    X_val = np.hstack([X_val, np.ones((X_val.shape[0], 1))])\n",
    "    X_test = np.hstack([X_test, np.ones((X_test.shape[0], 1))])\n",
    "    X_dev = np.hstack([X_dev, np.ones((X_dev.shape[0], 1))])\n",
    "    \n",
    "    return X_train, y_train, X_val, y_val, X_test, y_test, X_dev, y_dev\n",
    "\n",
    "\n",
    "# Invoke the above function to get our data.\n",
    "X_train, y_train, X_val, y_val, X_test, y_test, X_dev, y_dev = get_CIFAR10_data()\n",
    "print('Train data shape: ', X_train.shape)\n",
    "print('Train labels shape: ', y_train.shape)\n",
    "print('Validation data shape: ', X_val.shape)\n",
    "print('Validation labels shape: ', y_val.shape)\n",
    "print('Test data shape: ', X_test.shape)\n",
    "print('Test labels shape: ', y_test.shape)\n",
    "print('dev data shape: ', X_dev.shape)\n",
    "print('dev labels shape: ', y_dev.shape)"
   ]
  },
  {
   "cell_type": "markdown",
   "id": "2713b7f4",
   "metadata": {},
   "source": [
    "## Softmax Classifier\n",
    "\n",
    "Your code for this section will all be written inside `utils/classifiers/softmax.py`.\n"
   ]
  },
  {
   "cell_type": "markdown",
   "id": "607ff810",
   "metadata": {},
   "source": [
    "$\\color{Orange}{\\textit Task:}$ *First implement the naive softmax loss function with nested loops. Open the file `utils/classifiers/softmax.py` and implement the `softmax_loss_naive` function. Skip the grad implementation for now.*"
   ]
  },
  {
   "cell_type": "code",
   "execution_count": 40,
   "id": "6168f67e",
   "metadata": {},
   "outputs": [
    {
     "name": "stdout",
     "output_type": "stream",
     "text": [
      "loss: 2.302602\n",
      "sanity check: 2.302585\n"
     ]
    }
   ],
   "source": [
    "from utils.classifiers.softmax import softmax_loss_naive\n",
    "import time\n",
    "\n",
    "# Generate a random softmax weight matrix and use it to compute the loss.\n",
    "W = np.random.randn(3073, 10) * 0.0000001\n",
    "loss, grad = softmax_loss_naive(W, X_dev, y_dev, 0.0)\n",
    "\n",
    "# As a rough sanity check, our loss should be something close to -log(0.1).\n",
    "print('loss: %f' % loss)\n",
    "print('sanity check: %f' % (-np.log(0.1)))"
   ]
  },
  {
   "cell_type": "markdown",
   "id": "b35bc604",
   "metadata": {
    "tags": [
     "pdf-inline"
    ]
   },
   "source": [
    "**Inline Question 1**\n",
    "\n",
    "Why do we expect our loss to be close to -log(0.1)? Explain briefly.\n",
    "\n",
    "$\\color{blue}{\\textit Your Answer:}$ loss of one element is $-\\log \\left(\\frac{e^{f_y}}{\\sum_{i=1}^{10} e^{f_i}}\\right)$. Since $W \\sim N(0, 0.01^2)$, $W$ is mostly within $(-0.03, 0.03)$, thux $f_i$ is a sum of 3073 almost independent products with variation close to 1. The smaller variation of W the smaller variation of each term will be. This means that all $f_i$ are close to each other, so loss term can be approximated as $=log(\\frac{1}{\\sum_{i=0}^10 1})=-log(0.1)$. Averaging over minibatch we get the coarse estimate of the general loss\n"
   ]
  },
  {
   "cell_type": "markdown",
   "id": "b1878ff5",
   "metadata": {},
   "source": [
    "$\\color{Orange}{\\textit Task:}$ *Complete the implementation of `softmax_loss_naive` and implement a (naive) version of the gradient that uses nested loops.*"
   ]
  },
  {
   "cell_type": "code",
   "execution_count": 21,
   "id": "b7bef674",
   "metadata": {},
   "outputs": [
    {
     "name": "stdout",
     "output_type": "stream",
     "text": [
      "numerical: -1.038139 analytic: -1.038139, relative error: 3.585250e-09\n",
      "numerical: 1.142460 analytic: 1.142460, relative error: 3.630212e-09\n",
      "numerical: 2.244784 analytic: 2.244784, relative error: 5.191901e-09\n",
      "numerical: -0.765330 analytic: -0.765329, relative error: 8.741565e-08\n",
      "numerical: 0.177245 analytic: 0.177245, relative error: 4.571780e-08\n",
      "numerical: 0.363322 analytic: 0.363322, relative error: 1.846988e-08\n",
      "numerical: -2.309188 analytic: -2.309188, relative error: 2.868708e-08\n",
      "numerical: 2.663564 analytic: 2.663564, relative error: 2.772581e-09\n",
      "numerical: -0.628890 analytic: -0.628890, relative error: 9.980017e-08\n",
      "numerical: 0.797264 analytic: 0.797264, relative error: 1.073543e-08\n",
      "numerical: -0.862875 analytic: -0.862875, relative error: 6.642269e-09\n",
      "numerical: -3.120032 analytic: -3.120032, relative error: 4.205255e-10\n",
      "numerical: -1.046858 analytic: -1.046858, relative error: 1.615482e-08\n",
      "numerical: 1.286282 analytic: 1.286282, relative error: 2.729009e-08\n",
      "numerical: 3.797674 analytic: 3.797674, relative error: 8.176608e-09\n",
      "numerical: 3.770235 analytic: 3.770235, relative error: 6.439516e-09\n",
      "numerical: 0.213469 analytic: 0.213469, relative error: 6.369842e-08\n",
      "numerical: 0.197258 analytic: 0.197258, relative error: 1.406509e-07\n",
      "numerical: -0.118084 analytic: -0.118084, relative error: 4.445020e-07\n",
      "numerical: 2.166675 analytic: 2.166675, relative error: 1.824395e-08\n"
     ]
    }
   ],
   "source": [
    "loss, grad = softmax_loss_naive(W, X_dev, y_dev, 0.0)\n",
    "\n",
    "# Use numeric gradient checking as a debugging tool.\n",
    "# The numeric gradient should be close to the analytic gradient.\n",
    "from utils.gradient_check import grad_check_sparse\n",
    "f = lambda w: softmax_loss_naive(w, X_dev, y_dev, 0.0)[0]\n",
    "grad_numerical = grad_check_sparse(f, W, grad, 10)\n",
    "\n",
    "# Do another gradient check with regularization\n",
    "loss, grad = softmax_loss_naive(W, X_dev, y_dev, 5e1)\n",
    "f = lambda w: softmax_loss_naive(w, X_dev, y_dev, 5e1)[0]\n",
    "grad_numerical = grad_check_sparse(f, W, grad, 10)"
   ]
  },
  {
   "cell_type": "markdown",
   "id": "40a21187",
   "metadata": {},
   "source": [
    "$\\color{Orange}{\\textit Task:}$ *Now that we have a naive implementation of the softmax loss function and its gradient, implement a vectorized version in `softmax_loss_vectorized`. The two versions should compute the same results, but the vectorized version should be much faster.*"
   ]
  },
  {
   "cell_type": "code",
   "execution_count": 28,
   "id": "3994f8a3",
   "metadata": {},
   "outputs": [
    {
     "name": "stdout",
     "output_type": "stream",
     "text": [
      "naive loss: 2.373536e+00 computed in 0.105766s\n",
      "vectorized loss: 2.373536e+00 computed in 0.010050s\n",
      "Loss difference: 0.000000\n",
      "Gradient difference: 0.000000\n"
     ]
    }
   ],
   "source": [
    "tic = time.time()\n",
    "loss_naive, grad_naive = softmax_loss_naive(W, X_dev, y_dev, 0.000005)\n",
    "toc = time.time()\n",
    "print('naive loss: %e computed in %fs' % (loss_naive, toc - tic))\n",
    "\n",
    "from utils.classifiers.softmax import softmax_loss_vectorized\n",
    "tic = time.time()\n",
    "loss_vectorized, grad_vectorized = softmax_loss_vectorized(W, X_dev, y_dev, 0.000005)\n",
    "toc = time.time()\n",
    "print('vectorized loss: %e computed in %fs' % (loss_vectorized, toc - tic))\n",
    "\n",
    "# We use the Frobenius norm to compare the two versions of the gradient.\n",
    "grad_difference = np.linalg.norm(grad_naive - grad_vectorized, ord='fro')\n",
    "print('Loss difference: %f' % np.abs(loss_naive - loss_vectorized))\n",
    "print('Gradient difference: %f' % grad_difference)"
   ]
  },
  {
   "cell_type": "markdown",
   "id": "5f26585a",
   "metadata": {},
   "source": [
    "$\\color{Orange}{\\textit Task:}$ *Use the validation set to tune hyperparameters (**regularization strength** and **learning rate**). You should experiment with different ranges for the learning rates and regularization strengths; if you are careful you should be able to get a classification accuracy of over **0.35** on the validation set.*"
   ]
  },
  {
   "cell_type": "code",
   "execution_count": 37,
   "id": "bd171311",
   "metadata": {
    "tags": [
     "code"
    ],
    "test": "tuning"
   },
   "outputs": [
    {
     "name": "stdout",
     "output_type": "stream",
     "text": [
      "\n",
      "===================\n",
      "lr: 1e-08, reg: 15000.0\n",
      "iteration 0 / 2000: loss 461.609417\n",
      "iteration 100 / 2000: loss 434.856227\n",
      "iteration 200 / 2000: loss 409.738057\n",
      "iteration 300 / 2000: loss 385.543309\n",
      "iteration 400 / 2000: loss 363.136589\n",
      "iteration 500 / 2000: loss 341.996163\n",
      "iteration 600 / 2000: loss 322.060710\n",
      "iteration 700 / 2000: loss 303.187984\n",
      "iteration 800 / 2000: loss 285.494159\n",
      "iteration 900 / 2000: loss 269.081272\n",
      "iteration 1000 / 2000: loss 253.251066\n",
      "iteration 1100 / 2000: loss 238.545881\n",
      "iteration 1200 / 2000: loss 224.731641\n",
      "iteration 1300 / 2000: loss 211.404380\n",
      "iteration 1400 / 2000: loss 199.308777\n",
      "iteration 1500 / 2000: loss 187.951913\n",
      "iteration 1600 / 2000: loss 177.114515\n",
      "iteration 1700 / 2000: loss 166.706786\n",
      "iteration 1800 / 2000: loss 157.140816\n",
      "iteration 1900 / 2000: loss 148.017061\n",
      "\n",
      "===================\n",
      "lr: 1e-08, reg: 25000.0\n",
      "iteration 0 / 2000: loss 772.323215\n",
      "iteration 100 / 2000: loss 698.880279\n",
      "iteration 200 / 2000: loss 632.275092\n",
      "iteration 300 / 2000: loss 571.988959\n",
      "iteration 400 / 2000: loss 517.566478\n",
      "iteration 500 / 2000: loss 468.162144\n",
      "iteration 600 / 2000: loss 423.773635\n",
      "iteration 700 / 2000: loss 383.449801\n",
      "iteration 800 / 2000: loss 347.133544\n",
      "iteration 900 / 2000: loss 313.871655\n",
      "iteration 1000 / 2000: loss 284.083172\n",
      "iteration 1100 / 2000: loss 257.219696\n",
      "iteration 1200 / 2000: loss 232.965698\n",
      "iteration 1300 / 2000: loss 210.968738\n",
      "iteration 1400 / 2000: loss 190.927570\n",
      "iteration 1500 / 2000: loss 172.811855\n",
      "iteration 1600 / 2000: loss 156.549358\n",
      "iteration 1700 / 2000: loss 141.911132\n",
      "iteration 1800 / 2000: loss 128.539864\n",
      "iteration 1900 / 2000: loss 116.386320\n",
      "\n",
      "===================\n",
      "lr: 1e-07, reg: 15000.0\n",
      "iteration 0 / 2000: loss 473.231466\n",
      "iteration 100 / 2000: loss 259.199603\n",
      "iteration 200 / 2000: loss 142.587949\n",
      "iteration 300 / 2000: loss 78.844453\n",
      "iteration 400 / 2000: loss 44.006707\n",
      "iteration 500 / 2000: loss 25.031825\n",
      "iteration 600 / 2000: loss 14.584290\n",
      "iteration 700 / 2000: loss 8.931512\n",
      "iteration 800 / 2000: loss 5.886282\n",
      "iteration 900 / 2000: loss 4.134607\n",
      "iteration 1000 / 2000: loss 3.145219\n",
      "iteration 1100 / 2000: loss 2.688904\n",
      "iteration 1200 / 2000: loss 2.405405\n",
      "iteration 1300 / 2000: loss 2.202853\n",
      "iteration 1400 / 2000: loss 2.110669\n",
      "iteration 1500 / 2000: loss 2.089353\n",
      "iteration 1600 / 2000: loss 2.063473\n",
      "iteration 1700 / 2000: loss 2.125275\n",
      "iteration 1800 / 2000: loss 1.996394\n",
      "iteration 1900 / 2000: loss 2.047346\n",
      "\n",
      "===================\n",
      "lr: 1e-07, reg: 25000.0\n",
      "iteration 0 / 2000: loss 771.836538\n",
      "iteration 100 / 2000: loss 283.757131\n",
      "iteration 200 / 2000: loss 104.999398\n",
      "iteration 300 / 2000: loss 39.863368\n",
      "iteration 400 / 2000: loss 15.907047\n",
      "iteration 500 / 2000: loss 7.102317\n",
      "iteration 600 / 2000: loss 3.942768\n",
      "iteration 700 / 2000: loss 2.803895\n",
      "iteration 800 / 2000: loss 2.360844\n",
      "iteration 900 / 2000: loss 2.166348\n",
      "iteration 1000 / 2000: loss 2.137131\n",
      "iteration 1100 / 2000: loss 2.111531\n",
      "iteration 1200 / 2000: loss 2.055958\n",
      "iteration 1300 / 2000: loss 2.050619\n",
      "iteration 1400 / 2000: loss 2.091751\n",
      "iteration 1500 / 2000: loss 2.141855\n",
      "iteration 1600 / 2000: loss 2.079294\n",
      "iteration 1700 / 2000: loss 2.124333\n",
      "iteration 1800 / 2000: loss 2.044350\n",
      "iteration 1900 / 2000: loss 2.062721\n",
      "\n",
      "===================\n",
      "lr: 5e-07, reg: 15000.0\n",
      "iteration 0 / 2000: loss 471.370954\n",
      "iteration 100 / 2000: loss 24.617428\n",
      "iteration 200 / 2000: loss 3.132030\n",
      "iteration 300 / 2000: loss 2.094430\n",
      "iteration 400 / 2000: loss 2.081560\n",
      "iteration 500 / 2000: loss 2.054576\n",
      "iteration 600 / 2000: loss 2.061005\n",
      "iteration 700 / 2000: loss 1.957905\n",
      "iteration 800 / 2000: loss 2.033903\n",
      "iteration 900 / 2000: loss 1.996618\n",
      "iteration 1000 / 2000: loss 1.992477\n",
      "iteration 1100 / 2000: loss 1.982145\n",
      "iteration 1200 / 2000: loss 2.017783\n",
      "iteration 1300 / 2000: loss 2.035250\n",
      "iteration 1400 / 2000: loss 2.007778\n",
      "iteration 1500 / 2000: loss 2.031012\n",
      "iteration 1600 / 2000: loss 2.071581\n",
      "iteration 1700 / 2000: loss 2.098525\n",
      "iteration 1800 / 2000: loss 2.088861\n",
      "iteration 1900 / 2000: loss 2.024590\n",
      "\n",
      "===================\n",
      "lr: 5e-07, reg: 25000.0\n",
      "iteration 0 / 2000: loss 769.055231\n",
      "iteration 100 / 2000: loss 6.914113\n",
      "iteration 200 / 2000: loss 2.197520\n",
      "iteration 300 / 2000: loss 2.100109\n",
      "iteration 400 / 2000: loss 2.082320\n",
      "iteration 500 / 2000: loss 2.070760\n",
      "iteration 600 / 2000: loss 2.066245\n",
      "iteration 700 / 2000: loss 2.076416\n",
      "iteration 800 / 2000: loss 2.115009\n",
      "iteration 900 / 2000: loss 2.086931\n",
      "iteration 1000 / 2000: loss 2.114457\n",
      "iteration 1100 / 2000: loss 2.077917\n",
      "iteration 1200 / 2000: loss 2.070876\n",
      "iteration 1300 / 2000: loss 2.087386\n",
      "iteration 1400 / 2000: loss 2.135256\n",
      "iteration 1500 / 2000: loss 2.091567\n",
      "iteration 1600 / 2000: loss 2.091241\n",
      "iteration 1700 / 2000: loss 2.084118\n",
      "iteration 1800 / 2000: loss 2.127435\n",
      "iteration 1900 / 2000: loss 2.064522\n",
      "lr 1.000000e-08 reg 1.500000e+04 train accuracy: 0.181980 val accuracy: 0.179000\n",
      "lr 1.000000e-08 reg 2.500000e+04 train accuracy: 0.202000 val accuracy: 0.199000\n",
      "lr 1.000000e-07 reg 1.500000e+04 train accuracy: 0.345857 val accuracy: 0.365000\n",
      "lr 1.000000e-07 reg 2.500000e+04 train accuracy: 0.322776 val accuracy: 0.342000\n",
      "lr 5.000000e-07 reg 1.500000e+04 train accuracy: 0.338286 val accuracy: 0.347000\n",
      "lr 5.000000e-07 reg 2.500000e+04 train accuracy: 0.330633 val accuracy: 0.348000\n",
      "best validation accuracy achieved during cross-validation: 0.365000\n"
     ]
    }
   ],
   "source": [
    "from utils.classifiers import Softmax\n",
    "results = {}\n",
    "best_val = -1\n",
    "best_softmax = None\n",
    "\n",
    "################################################################################\n",
    "# TODO:                                                                        #\n",
    "# Use the validation set to set the learning rate and regularization strength. #\n",
    "# save the best trained softmax classifer in best_softmax.                     #\n",
    "################################################################################\n",
    "\n",
    "# Provided as a reference. You may or may not want to change these hyperparameters\n",
    "learning_rates = [1e-8, 1e-7, 5e-7]\n",
    "regularization_strengths = [1.5e4, 2.5e4]\n",
    "\n",
    "# *****START OF YOUR CODE (DO NOT DELETE/MODIFY THIS LINE)*****\n",
    "\n",
    "for lr in learning_rates:\n",
    "    for reg in regularization_strengths:\n",
    "        print(\"\\n===================\")\n",
    "        print(f\"lr: {lr}, reg: {reg}\")\n",
    "        classifier = Softmax()\n",
    "        classifier.train(X_train, y_train, learning_rate=lr, reg=reg, num_iters=2000, verbose=True)\n",
    "\n",
    "        y_train_pred = classifier.predict(X_train)\n",
    "        acc_train = (y_train_pred == y_train).mean()\n",
    "\n",
    "        y_val_pred = classifier.predict(X_val)\n",
    "        acc_val = (y_val_pred == y_val).mean()\n",
    "\n",
    "        results[(lr, reg)] = acc_train, acc_val\n",
    "        if acc_val > best_val:\n",
    "            best_val = acc_val\n",
    "            best_softmax = classifier\n",
    "\n",
    "# *****END OF YOUR CODE (DO NOT DELETE/MODIFY THIS LINE)*****\n",
    "    \n",
    "# Print out results.\n",
    "for lr, reg in sorted(results):\n",
    "    train_accuracy, val_accuracy = results[(lr, reg)]\n",
    "    \n",
    "    print('lr %e reg %e train accuracy: %f val accuracy: %f' % (\n",
    "                lr, reg, train_accuracy, val_accuracy))\n",
    "    \n",
    "print('best validation accuracy achieved during cross-validation: %f' % best_val)"
   ]
  },
  {
   "cell_type": "code",
   "execution_count": 38,
   "id": "f94a8f12",
   "metadata": {
    "test": "test"
   },
   "outputs": [
    {
     "name": "stdout",
     "output_type": "stream",
     "text": [
      "softmax on raw pixels final test set accuracy: 0.364000\n"
     ]
    }
   ],
   "source": [
    "# evaluate on test set\n",
    "# Evaluate the best softmax on test set\n",
    "y_test_pred = best_softmax.predict(X_test)\n",
    "test_accuracy = np.mean(y_test == y_test_pred)\n",
    "print('softmax on raw pixels final test set accuracy: %f' % (test_accuracy, ))"
   ]
  },
  {
   "cell_type": "markdown",
   "id": "7e2112ee",
   "metadata": {
    "tags": [
     "pdf-inline"
    ]
   },
   "source": [
    "**Inline Question 2** - *True or False*\n",
    "\n",
    "Suppose the overall training loss is defined as the sum of the per-datapoint loss over all training examples. It is possible to add a new datapoint to a training set that would leave the SVM loss unchanged, but this is not the case with the Softmax classifier loss.\n",
    "\n",
    "$\\color{blue}{\\textit Your Answer:}$ Yes\n",
    "\n",
    "\n",
    "$\\color{blue}{\\textit Your Explanation:}$ We can add such a point that the class predicted for it by SVM is correct and larger than others scores more by a delta. Then SVM loss doesn't change and softmax loss easily can be changed via small shifts.  \n",
    "\n"
   ]
  },
  {
   "cell_type": "code",
   "execution_count": 39,
   "id": "86d86120",
   "metadata": {},
   "outputs": [
    {
     "data": {
      "image/png": "[encoded data removed]",
      "text/plain": [
       "<Figure size 1000x800 with 10 Axes>"
      ]
     },
     "metadata": {},
     "output_type": "display_data"
    }
   ],
   "source": [
    "# Visualize the learned weights for each class\n",
    "w = best_softmax.W[:-1,:] # strip out the bias\n",
    "w = w.reshape(32, 32, 3, 10)\n",
    "\n",
    "w_min, w_max = np.min(w), np.max(w)\n",
    "\n",
    "classes = ['plane', 'car', 'bird', 'cat', 'deer', 'dog', 'frog', 'horse', 'ship', 'truck']\n",
    "for i in range(10):\n",
    "    plt.subplot(2, 5, i + 1)\n",
    "    \n",
    "    # Rescale the weights to be between 0 and 255\n",
    "    wimg = 255.0 * (w[:, :, :, i].squeeze() - w_min) / (w_max - w_min)\n",
    "    plt.imshow(wimg.astype('uint8'))\n",
    "    plt.axis('off')\n",
    "    plt.title(classes[i])"
   ]
  },
  {
   "cell_type": "code",
   "execution_count": null,
   "id": "24688f99",
   "metadata": {},
   "outputs": [],
   "source": []
  }
 ],
 "metadata": {
  "kernelspec": {
   "display_name": ".venv",
   "language": "python",
   "name": "python3"
  },
  "language_info": {
   "codemirror_mode": {
    "name": "ipython",
    "version": 3
   },
   "file_extension": ".py",
   "mimetype": "text/x-python",
   "name": "python",
   "nbconvert_exporter": "python",
   "pygments_lexer": "ipython3",
   "version": "3.12.5"
  }
 },
 "nbformat": 4,
 "nbformat_minor": 5
}
